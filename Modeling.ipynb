{
 "cells": [
  {
   "cell_type": "code",
   "execution_count": 21,
   "id": "ed3ce1ce-fdb0-4628-9624-fc45088ed649",
   "metadata": {},
   "outputs": [],
   "source": [
    "import tensorflow as tf\n",
    "from keras.preprocessing import image\n",
    "from keras.preprocessing.image import ImageDataGenerator\n",
    "import numpy as np\n",
    "import matplotlib.pyplot as plt\n",
    "from sklearn.metrics import classification_report, confusion_matrix, roc_curve, roc_auc_score\n",
    "import seaborn as sns"
   ]
  },
  {
   "attachments": {},
   "cell_type": "markdown",
   "id": "3aa706e5",
   "metadata": {},
   "source": [
    "## Image Augmentation"
   ]
  },
  {
   "cell_type": "code",
   "execution_count": 2,
   "id": "501c7048-acf7-4505-aadd-927137df08cb",
   "metadata": {},
   "outputs": [
    {
     "name": "stdout",
     "output_type": "stream",
     "text": [
      "Found 22564 images belonging to 2 classes.\n",
      "Found 2514 images belonging to 2 classes.\n"
     ]
    }
   ],
   "source": [
    "train_url = \"C:\\\\Users\\\\ADMIN\\\\Desktop\\\\WasteClassification\\\\DATASET\\\\TRAIN\"\n",
    "test_url = \"C:\\\\Users\\\\ADMIN\\\\Desktop\\\\WasteClassification\\\\DATASET\\\\TEST\"\n",
    "\n",
    "train_datagen = ImageDataGenerator(rotation_range=10,\n",
    "                                   width_shift_range=0.2,\n",
    "                                   height_shift_range=0.2, \n",
    "                                   zoom_range=0.2,\n",
    "                                   horizontal_flip=True,\n",
    "                                   vertical_flip = True,\n",
    "                                   rescale=1./255)\n",
    "\n",
    "val_datagen = ImageDataGenerator(rescale = 1./255)\n",
    "\n",
    "batch_size = 64\n",
    "img_size = (128, 128)\n",
    "\n",
    "train_set = train_datagen.flow_from_directory(train_url, \n",
    "                                              class_mode='binary',\n",
    "                                              batch_size = batch_size,\n",
    "                                              target_size=img_size)\n",
    "\n",
    "test_set = val_datagen.flow_from_directory(test_url, \n",
    "                                           class_mode = 'binary',\n",
    "                                           batch_size = batch_size,\n",
    "                                           shuffle=False,\n",
    "                                           target_size=img_size)"
   ]
  },
  {
   "attachments": {},
   "cell_type": "markdown",
   "id": "775fd242",
   "metadata": {},
   "source": [
    "## Base Model"
   ]
  },
  {
   "cell_type": "code",
   "execution_count": 6,
   "id": "77ba7be8",
   "metadata": {},
   "outputs": [],
   "source": [
    "model1 = tf.keras.models.Sequential([\n",
    "    tf.keras.layers.Input(shape=(128,128,3)),\n",
    "    tf.keras.layers.Conv2D(filters=64, kernel_size=3, padding='same', activation='relu'),\n",
    "    tf.keras.layers.Conv2D(filters=64, kernel_size=3, padding='same', activation='relu'),\n",
    "    tf.keras.layers.Conv2D(filters=64, kernel_size=3, padding='same', activation='relu'),\n",
    "    tf.keras.layers.MaxPooling2D(padding='same'),\n",
    "    tf.keras.layers.BatchNormalization(),\n",
    "\n",
    "    tf.keras.layers.Conv2D(filters=128, kernel_size=3, padding='same', activation='relu'),\n",
    "    tf.keras.layers.Conv2D(filters=128, kernel_size=3, padding='same', activation='relu'),\n",
    "    tf.keras.layers.Conv2D(filters=128, kernel_size=3, padding='same', activation='relu'),\n",
    "    tf.keras.layers.MaxPooling2D(padding='same'),\n",
    "    tf.keras.layers.BatchNormalization(),\n",
    "\n",
    "    tf.keras.layers.Conv2D(filters=256, kernel_size=3, padding='same', activation='relu'),\n",
    "    tf.keras.layers.Conv2D(filters=256, kernel_size=3, padding='same', activation='relu'),\n",
    "    tf.keras.layers.Conv2D(filters=256, kernel_size=3, padding='same', activation='relu'),\n",
    "    tf.keras.layers.MaxPooling2D(padding='same'),\n",
    "    tf.keras.layers.BatchNormalization(),\n",
    "\n",
    "    tf.keras.layers.Dropout(0.2),\n",
    "    tf.keras.layers.Flatten(),\n",
    "    tf.keras.layers.Dense(32, activation='relu'),\n",
    "    tf.keras.layers.Dropout(0.2),\n",
    "    tf.keras.layers.Dense(32, activation='relu'),\n",
    "    tf.keras.layers.Dropout(0.2),\n",
    "    tf.keras.layers.Dense(1, activation='sigmoid'),\n",
    "])\n",
    "\n",
    "model1.compile(optimizer='adam', loss='binary_crossentropy', metrics=['acc'])"
   ]
  },
  {
   "cell_type": "code",
   "execution_count": null,
   "id": "95cf3356",
   "metadata": {},
   "outputs": [],
   "source": [
    "early_stopping = tf.keras.callbacks.EarlyStopping(patience=2)\n",
    "checkpoint = tf.keras.callbacks.ModelCheckpoint('my_model', save_best_only=True)\n",
    "\n",
    "hist = model1.fit(train_set, validation_data=test_set, epochs=20, callbacks=[early_stopping, checkpoint])"
   ]
  },
  {
   "attachments": {},
   "cell_type": "markdown",
   "id": "3222bae4",
   "metadata": {},
   "source": [
    "## Transfer Learning with MobileNetV2"
   ]
  },
  {
   "cell_type": "code",
   "execution_count": 9,
   "id": "bee9d2b4-973c-4339-96db-6e8a6059429a",
   "metadata": {},
   "outputs": [],
   "source": [
    "baseModel = tf.keras.applications.MobileNetV2(input_shape=(128, 128, 3), weights='imagenet',\n",
    "                                           include_top=False, classes=1)\n",
    "\n",
    "for layers in baseModel.layers:\n",
    "    layers.trainable=False"
   ]
  },
  {
   "cell_type": "code",
   "execution_count": 13,
   "id": "46787a83-e6af-48f6-8820-edd41b7213aa",
   "metadata": {},
   "outputs": [
    {
     "name": "stdout",
     "output_type": "stream",
     "text": [
      "Model: \"sequential_1\"\n",
      "_________________________________________________________________\n",
      " Layer (type)                Output Shape              Param #   \n",
      "=================================================================\n",
      " mobilenetv2_1.00_128 (Funct  (None, 4, 4, 1280)       2257984   \n",
      " ional)                                                          \n",
      "                                                                 \n",
      " flatten_2 (Flatten)         (None, 20480)             0         \n",
      "                                                                 \n",
      " dropout_4 (Dropout)         (None, 20480)             0         \n",
      "                                                                 \n",
      " dense_4 (Dense)             (None, 32)                655392    \n",
      "                                                                 \n",
      " dropout_5 (Dropout)         (None, 32)                0         \n",
      "                                                                 \n",
      " dense_5 (Dense)             (None, 32)                1056      \n",
      "                                                                 \n",
      " dropout_6 (Dropout)         (None, 32)                0         \n",
      "                                                                 \n",
      " dense_6 (Dense)             (None, 1)                 33        \n",
      "                                                                 \n",
      "=================================================================\n",
      "Total params: 2,914,465\n",
      "Trainable params: 656,481\n",
      "Non-trainable params: 2,257,984\n",
      "_________________________________________________________________\n"
     ]
    }
   ],
   "source": [
    "model = tf.keras.models.Sequential([\n",
    "    baseModel,\n",
    "    tf.keras.layers.Flatten(),\n",
    "    tf.keras.layers.Dropout(0.5),\n",
    "    tf.keras.layers.Dense(32, activation='relu'),\n",
    "    tf.keras.layers.Dropout(0.5),\n",
    "    tf.keras.layers.Dense(32, activation='relu'),\n",
    "    tf.keras.layers.Dropout(0.5),\n",
    "    tf.keras.layers.Dense(1, activation='sigmoid'),\n",
    "])\n",
    "\n",
    "optimizer = tf.keras.optimizers.Adam(learning_rate=0.0001)\n",
    "loss = tf.keras.losses.BinaryCrossentropy()\n",
    "\n",
    "model.compile(optimizer=optimizer,\n",
    "                        loss=loss,\n",
    "                        metrics=['accuracy'])\n",
    "\n",
    "epochs=20\n",
    "callbacks = tf.keras.callbacks.EarlyStopping(patience=5, restore_best_weights=True)\n",
    "model.summary()"
   ]
  },
  {
   "cell_type": "code",
   "execution_count": 14,
   "id": "1cb95020-20aa-465f-bade-07940f2275e5",
   "metadata": {},
   "outputs": [
    {
     "name": "stdout",
     "output_type": "stream",
     "text": [
      "Epoch 1/20\n",
      "353/353 [==============================] - 354s 995ms/step - loss: 0.5727 - accuracy: 0.7063 - val_loss: 0.3743 - val_accuracy: 0.8652\n",
      "Epoch 2/20\n",
      "353/353 [==============================] - 297s 841ms/step - loss: 0.4150 - accuracy: 0.8085 - val_loss: 0.3167 - val_accuracy: 0.8755\n",
      "Epoch 3/20\n",
      "353/353 [==============================] - 180s 509ms/step - loss: 0.3769 - accuracy: 0.8323 - val_loss: 0.2977 - val_accuracy: 0.8739\n",
      "Epoch 4/20\n",
      "353/353 [==============================] - 170s 482ms/step - loss: 0.3546 - accuracy: 0.8487 - val_loss: 0.2783 - val_accuracy: 0.8978\n",
      "Epoch 5/20\n",
      "353/353 [==============================] - 169s 478ms/step - loss: 0.3321 - accuracy: 0.8606 - val_loss: 0.2833 - val_accuracy: 0.8942\n",
      "Epoch 6/20\n",
      "353/353 [==============================] - 177s 501ms/step - loss: 0.3171 - accuracy: 0.8681 - val_loss: 0.2582 - val_accuracy: 0.8982\n",
      "Epoch 7/20\n",
      "353/353 [==============================] - 174s 493ms/step - loss: 0.3111 - accuracy: 0.8723 - val_loss: 0.2579 - val_accuracy: 0.9121\n",
      "Epoch 8/20\n",
      "353/353 [==============================] - 178s 503ms/step - loss: 0.3055 - accuracy: 0.8742 - val_loss: 0.2813 - val_accuracy: 0.8974\n",
      "Epoch 9/20\n",
      "353/353 [==============================] - 168s 476ms/step - loss: 0.2985 - accuracy: 0.8809 - val_loss: 0.2529 - val_accuracy: 0.9117\n",
      "Epoch 10/20\n",
      "353/353 [==============================] - 169s 478ms/step - loss: 0.2942 - accuracy: 0.8807 - val_loss: 0.2777 - val_accuracy: 0.9018\n",
      "Epoch 11/20\n",
      "353/353 [==============================] - 168s 476ms/step - loss: 0.2894 - accuracy: 0.8832 - val_loss: 0.2645 - val_accuracy: 0.9029\n",
      "Epoch 12/20\n",
      "353/353 [==============================] - 309s 876ms/step - loss: 0.2840 - accuracy: 0.8861 - val_loss: 0.2719 - val_accuracy: 0.9069\n",
      "Epoch 13/20\n",
      "353/353 [==============================] - 170s 481ms/step - loss: 0.2823 - accuracy: 0.8882 - val_loss: 0.2490 - val_accuracy: 0.9137\n",
      "Epoch 14/20\n",
      "353/353 [==============================] - 168s 477ms/step - loss: 0.2796 - accuracy: 0.8885 - val_loss: 0.2773 - val_accuracy: 0.8998\n",
      "Epoch 15/20\n",
      "353/353 [==============================] - 168s 475ms/step - loss: 0.2745 - accuracy: 0.8910 - val_loss: 0.2602 - val_accuracy: 0.9101\n",
      "Epoch 16/20\n",
      "353/353 [==============================] - 167s 474ms/step - loss: 0.2663 - accuracy: 0.8927 - val_loss: 0.2475 - val_accuracy: 0.9089\n",
      "Epoch 17/20\n",
      "353/353 [==============================] - 167s 474ms/step - loss: 0.2705 - accuracy: 0.8939 - val_loss: 0.2373 - val_accuracy: 0.9113\n",
      "Epoch 18/20\n",
      "353/353 [==============================] - 168s 477ms/step - loss: 0.2689 - accuracy: 0.8952 - val_loss: 0.2445 - val_accuracy: 0.9121\n",
      "Epoch 19/20\n",
      "353/353 [==============================] - 168s 476ms/step - loss: 0.2610 - accuracy: 0.8970 - val_loss: 0.2592 - val_accuracy: 0.9041\n",
      "Epoch 20/20\n",
      "353/353 [==============================] - 169s 480ms/step - loss: 0.2567 - accuracy: 0.8972 - val_loss: 0.2628 - val_accuracy: 0.9065\n"
     ]
    }
   ],
   "source": [
    "history = model.fit(train_set, validation_data=test_set, epochs=epochs, callbacks=[callbacks])"
   ]
  },
  {
   "attachments": {},
   "cell_type": "markdown",
   "id": "68ad77ba",
   "metadata": {},
   "source": [
    "#### Save model"
   ]
  },
  {
   "cell_type": "code",
   "execution_count": 15,
   "id": "f97b0ced-05f9-4e93-907e-019946374ef2",
   "metadata": {},
   "outputs": [
    {
     "name": "stderr",
     "output_type": "stream",
     "text": [
      "WARNING:absl:Function `_wrapped_model` contains input name(s) mobilenetv2_1.00_128_input with unsupported characters which will be renamed to mobilenetv2_1_00_128_input in the SavedModel.\n",
      "WARNING:absl:Found untraced functions such as _jit_compiled_convolution_op, _jit_compiled_convolution_op, _jit_compiled_convolution_op, _jit_compiled_convolution_op, _jit_compiled_convolution_op while saving (showing 5 of 52). These functions will not be directly callable after loading.\n"
     ]
    },
    {
     "name": "stdout",
     "output_type": "stream",
     "text": [
      "INFO:tensorflow:Assets written to: waste_classifier\\assets\n"
     ]
    },
    {
     "name": "stderr",
     "output_type": "stream",
     "text": [
      "INFO:tensorflow:Assets written to: waste_classifier\\assets\n"
     ]
    }
   ],
   "source": [
    "model.save(\"waste_classifier\")"
   ]
  },
  {
   "attachments": {},
   "cell_type": "markdown",
   "id": "89663e7e",
   "metadata": {},
   "source": [
    "#### Training process evaluating"
   ]
  },
  {
   "cell_type": "code",
   "execution_count": 18,
   "id": "f3358a94-33bc-4de6-a31c-1b6ff39a8101",
   "metadata": {},
   "outputs": [
    {
     "data": {
      "text/plain": [
       "<matplotlib.legend.Legend at 0x20697db4ca0>"
      ]
     },
     "execution_count": 18,
     "metadata": {},
     "output_type": "execute_result"
    },
    {
     "data": {
      "image/png": "[encoded data removed]",
      "text/plain": [
       "<Figure size 576x360 with 1 Axes>"
      ]
     },
     "metadata": {
      "needs_background": "light"
     },
     "output_type": "display_data"
    }
   ],
   "source": [
    "plt.figure(figsize=(8,5))\n",
    "plt.plot(history.history['loss'])\n",
    "plt.plot(history.history['val_loss'])\n",
    "plt.legend(['Training Loss', 'Validation Loss'])"
   ]
  },
  {
   "cell_type": "code",
   "execution_count": 20,
   "id": "f3f5c6b2",
   "metadata": {},
   "outputs": [
    {
     "data": {
      "text/plain": [
       "<matplotlib.legend.Legend at 0x206a440f280>"
      ]
     },
     "execution_count": 20,
     "metadata": {},
     "output_type": "execute_result"
    },
    {
     "data": {
      "image/png": "[encoded data removed]",
      "text/plain": [
       "<Figure size 576x360 with 1 Axes>"
      ]
     },
     "metadata": {
      "needs_background": "light"
     },
     "output_type": "display_data"
    }
   ],
   "source": [
    "plt.figure(figsize=(8,5))\n",
    "plt.plot(history.history['accuracy'])\n",
    "plt.plot(history.history['val_accuracy'])\n",
    "plt.legend(['Training Accuracy', 'Validation Accuracy'])"
   ]
  },
  {
   "cell_type": "code",
   "execution_count": 27,
   "id": "052879fc",
   "metadata": {},
   "outputs": [
    {
     "name": "stdout",
     "output_type": "stream",
     "text": [
      "Found 22564 images belonging to 2 classes.\n"
     ]
    }
   ],
   "source": [
    "train_set = val_datagen.flow_from_directory(train_url, \n",
    "                                           class_mode = 'binary',\n",
    "                                           batch_size = batch_size,\n",
    "                                           shuffle=False,\n",
    "                                           target_size=img_size)"
   ]
  },
  {
   "cell_type": "code",
   "execution_count": 28,
   "id": "886d2b88",
   "metadata": {},
   "outputs": [
    {
     "name": "stdout",
     "output_type": "stream",
     "text": [
      "353/353 [==============================] - 120s 340ms/step - loss: 0.1747 - accuracy: 0.9328\n",
      "40/40 [==============================] - 13s 328ms/step - loss: 0.2628 - accuracy: 0.9065\n"
     ]
    }
   ],
   "source": [
    "model.evaluate(train_set)\n",
    "model.evaluate(test_set)"
   ]
  },
  {
   "attachments": {},
   "cell_type": "markdown",
   "id": "db3eadd7",
   "metadata": {},
   "source": [
    "#### Determining Threshold "
   ]
  },
  {
   "cell_type": "code",
   "execution_count": 22,
   "id": "68a7eac5",
   "metadata": {},
   "outputs": [],
   "source": [
    "def evaluate(y, y_pred, p=0.5):\n",
    "    plt.figure(figsize=(10,6))\n",
    "    sns.heatmap(confusion_matrix(y, y_pred >= p), annot=True)\n",
    "    print(classification_report(y, y_pred >= p, digits=5))\n",
    "\n",
    "def plot_roc_auc(y, y_pred):\n",
    "    fpr, tpr, threshold = roc_curve(y, y_pred)\n",
    "    auc = roc_auc_score(y, y_pred)\n",
    "    gmeans = np.sqrt(tpr * (1-fpr))\n",
    "    \n",
    "    #create ROC curve\n",
    "    plt.figure(figsize=(10,6))\n",
    "    plt.plot(fpr,tpr,label=\"AUC=\"+str(auc))\n",
    "    plt.ylabel('True Positive Rate')\n",
    "    plt.xlabel('False Positive Rate')\n",
    "    plt.legend(loc=4)\n",
    "    plt.show()\n",
    "\n",
    "    ix = np.argmax(gmeans)\n",
    "    print('Best Threshold=%f, G-Mean=%.3f' % (threshold[ix], gmeans[ix]))\n",
    "    return threshold[ix]"
   ]
  },
  {
   "cell_type": "code",
   "execution_count": 33,
   "id": "ac7b3c1a",
   "metadata": {},
   "outputs": [
    {
     "name": "stdout",
     "output_type": "stream",
     "text": [
      "40/40 [==============================] - 14s 340ms/step\n"
     ]
    },
    {
     "data": {
      "image/png": "[encoded data removed]",
      "text/plain": [
       "<Figure size 720x432 with 1 Axes>"
      ]
     },
     "metadata": {
      "needs_background": "light"
     },
     "output_type": "display_data"
    },
    {
     "name": "stdout",
     "output_type": "stream",
     "text": [
      "Best Threshold=0.342975, G-Mean=0.928\n"
     ]
    }
   ],
   "source": [
    "y_pred = model.predict(test_set)\n",
    "THRESHOLD = plot_roc_auc(test_set.classes, y_pred)"
   ]
  },
  {
   "attachments": {},
   "cell_type": "markdown",
   "id": "cb708dd5",
   "metadata": {},
   "source": [
    "## Final Evaluation Result"
   ]
  },
  {
   "cell_type": "code",
   "execution_count": 34,
   "id": "215d6288",
   "metadata": {},
   "outputs": [
    {
     "name": "stdout",
     "output_type": "stream",
     "text": [
      "              precision    recall  f1-score   support\n",
      "\n",
      "           0    0.93952   0.93148   0.93548      1401\n",
      "           1    0.91467   0.92453   0.91957      1113\n",
      "\n",
      "    accuracy                        0.92840      2514\n",
      "   macro avg    0.92710   0.92800   0.92753      2514\n",
      "weighted avg    0.92852   0.92840   0.92844      2514\n",
      "\n"
     ]
    },
    {
     "data": {
      "image/png": "[encoded data removed]",
      "text/plain": [
       "<Figure size 720x432 with 2 Axes>"
      ]
     },
     "metadata": {
      "needs_background": "light"
     },
     "output_type": "display_data"
    }
   ],
   "source": [
    "evaluate(test_set.classes, y_pred, p=THRESHOLD)"
   ]
  }
 ],
 "metadata": {
  "kernelspec": {
   "display_name": "Python 3 (ipykernel)",
   "language": "python",
   "name": "python3"
  },
  "language_info": {
   "codemirror_mode": {
    "name": "ipython",
    "version": 3
   },
   "file_extension": ".py",
   "mimetype": "text/x-python",
   "name": "python",
   "nbconvert_exporter": "python",
   "pygments_lexer": "ipython3",
   "version": "3.10.5"
  },
  "vscode": {
   "interpreter": {
    "hash": "31671a60cee805c34c73116577b485118ff3a75c458d3004d49632c19702ac60"
   }
  }
 },
 "nbformat": 4,
 "nbformat_minor": 5
}
